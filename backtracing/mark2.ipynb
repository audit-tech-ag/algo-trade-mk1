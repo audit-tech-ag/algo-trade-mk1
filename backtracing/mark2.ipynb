{
 "cells": [
  {
   "cell_type": "code",
   "execution_count": 1,
   "metadata": {
    "collapsed": true
   },
   "outputs": [],
   "source": [
    "from datetime import datetime\n",
    "import backtrader as bt\n",
    "import pandas as pd\n",
    "import yfinance\n",
    "import matplotlib.pyplot as plt"
   ]
  },
  {
   "cell_type": "code",
   "execution_count": null,
   "outputs": [],
   "source": [
    "data_yf = bt.feeds.YahooFinanceData(dataname='MSFT', fromdate=datetime(2019, 1, 1),\n",
    "                                  todate=datetime(2020, 1, 1))"
   ],
   "metadata": {
    "collapsed": false,
    "pycharm": {
     "name": "#%%\n"
    }
   }
  },
  {
   "cell_type": "code",
   "execution_count": null,
   "outputs": [],
   "source": [
    "# CSV Data source\n",
    "class SmaCross(bt.SignalStrategy):\n",
    "    params = (('fast',10),\n",
    "              ('slow',30),\n",
    "             )\n",
    "    def __init__(self):\n",
    "        print(self.params.fast)\n",
    "        print(self.params.slow)\n",
    "        self.sma_fast = bt.ind.SMA(period=self.params.fast)\n",
    "        self.sma_slow = bt.ind.SMA(period=self.params.slow)\n",
    "        crossover = bt.ind.CrossOver(self.sma_fast, self.sma_slow)\n",
    "#       self.signal_add(bt.SIGNAL_LONG, crossover)\n",
    "\n",
    "    def start(self):\n",
    "        print('Start')\n",
    "        print(dir(self.broker))\n",
    "\n",
    "\n",
    "    def next(self):\n",
    "        print('This is next')\n",
    "#         print(self.datetime.date())\n",
    "#         print(self.broker.get_value())\n",
    "#         print(self.position.size)\n",
    "#         print(self.sma_fast[0])\n",
    "\n",
    "#         if self.position.size == 0:\n",
    "#             if self.sma_fast > self.sma_slow:\n",
    "#                 self.buy()\n",
    "#         else:\n",
    "\n",
    "        if self.position.size == 0:\n",
    "            if self.sma_fast  > self.sma_slow:\n",
    "                self.buy()\n",
    "        elif self.position.size != 0:\n",
    "            if self.sma_fast < self.sma_slow:\n",
    "                self.sell()\n",
    "\n",
    "    def stop(self):\n",
    "        print('End')\n",
    "\n",
    "    def notify_order(self, order):\n",
    "        if order.status in [order.Completed]:\n",
    "            if order.isbuy():\n",
    "                print(\n",
    "                    'BUY EXECUTED, Price: %.2f, Cost: %.2f, Comm %.2f' %\n",
    "                    (order.executed.price,\n",
    "                     order.executed.value,\n",
    "                     order.executed.comm))\n",
    "\n",
    "            else:  # Sell\n",
    "                print('SELL EXECUTED, Price: %.2f, Cost: %.2f, Comm %.2f' %\n",
    "                         (order.executed.price,\n",
    "                          order.executed.value,\n",
    "                          order.executed.comm))\n",
    "\n",
    "\n",
    "\n",
    "data_pd = bt.feeds.PandasData(dataname = df ,\n",
    "                                  fromdate=datetime(2019, 1, 1),\n",
    "                                  todate=datetime(2020, 1, 1))\n",
    "\n",
    "\n",
    "cerebro = bt.Cerebro()\n",
    "cerebro.addstrategy(SmaCross, fast=10, slow = 30)\n",
    "cerebro.adddata(data_yf)\n",
    "cerebro.addsizer(bt.sizers.PercentSizer, percents = 90)\n",
    "cerebro.run()\n",
    "plt.close()\n",
    "fig = cerebro.plot(iplot= True)\n",
    "fig[0][0].set_figwidth(10)\n",
    "fig[0][0].set_figheight(10)"
   ],
   "metadata": {
    "collapsed": false,
    "pycharm": {
     "name": "#%%\n"
    }
   }
  }
 ],
 "metadata": {
  "kernelspec": {
   "display_name": "Python 3",
   "language": "python",
   "name": "python3"
  },
  "language_info": {
   "codemirror_mode": {
    "name": "ipython",
    "version": 2
   },
   "file_extension": ".py",
   "mimetype": "text/x-python",
   "name": "python",
   "nbconvert_exporter": "python",
   "pygments_lexer": "ipython2",
   "version": "2.7.6"
  }
 },
 "nbformat": 4,
 "nbformat_minor": 0
}