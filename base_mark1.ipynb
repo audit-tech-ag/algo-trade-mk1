{
 "cells": [
  {
   "cell_type": "code",
   "execution_count": 28,
   "outputs": [],
   "source": [
    "import pandas as pd\n",
    "df = pd.read_csv('all_stocks_5yr.csv')"
   ],
   "metadata": {
    "collapsed": false,
    "pycharm": {
     "name": "#%%\n"
    }
   }
  },
  {
   "cell_type": "code",
   "execution_count": 29,
   "outputs": [],
   "source": [
    "df = df[df['Name']!='GOOG']"
   ],
   "metadata": {
    "collapsed": false,
    "pycharm": {
     "name": "#%%\n"
    }
   }
  },
  {
   "cell_type": "code",
   "execution_count": 30,
   "outputs": [],
   "source": [
    "df['dt'] = pd.to_datetime(df['Date'])\n",
    "df['year'] = df['dt'].dt.year\n"
   ],
   "metadata": {
    "collapsed": false,
    "pycharm": {
     "name": "#%%\n"
    }
   }
  },
  {
   "cell_type": "code",
   "execution_count": 31,
   "metadata": {
    "collapsed": true
   },
   "outputs": [],
   "source": [
    "df['month'] = df['dt'].dt.month\n",
    "df['year_month'] = df['year'].astype(str) + '_' + df['month'].astype('str')\n",
    "df = df.sort_values('dt')\n",
    "\n",
    "def calculate_returns(df):\n",
    "    return (df['Close'].iloc[-1] - df['Open'].iloc[0] ) / df['Open'].iloc[0]"
   ]
  },
  {
   "cell_type": "code",
   "execution_count": 32,
   "outputs": [
    {
     "data": {
      "text/plain": "Name\nA       0.109596\nAAL     0.130782\nAAP     0.133132\nAAPL    0.128740\nABBV    0.078539\n          ...   \nXYL     0.378619\nYUM    -0.112030\nZBH     0.020570\nZION    0.620482\nZTS     0.140392\nLength: 498, dtype: float64"
     },
     "execution_count": 32,
     "metadata": {},
     "output_type": "execute_result"
    }
   ],
   "source": [
    "ml = pd.DataFrame()\n",
    "ml['returns_2014'] = df[df['year'] == 2014].groupby('Name').apply(calculate_returns)\n",
    "ml['returns_2015'] = df[df['year'] == 2015].groupby('Name').apply(calculate_returns)\n",
    "ml['returns_2016'] = df[df['year'] == 2016].groupby('Name').apply(calculate_returns)\n",
    "df[df['year'] == 2016].groupby('Name').apply(calculate_returns)"
   ],
   "metadata": {
    "collapsed": false,
    "pycharm": {
     "name": "#%%\n"
    }
   }
  },
  {
   "cell_type": "code",
   "execution_count": 33,
   "outputs": [
    {
     "data": {
      "text/plain": "False    271\nTrue     221\nName: target, dtype: int64"
     },
     "execution_count": 33,
     "metadata": {},
     "output_type": "execute_result"
    }
   ],
   "source": [
    "a = df[df['year'].isin([2014,2015])].groupby(['Name','year_month']).apply(calculate_returns)\n",
    "ml = a.reset_index().pivot_table(index='Name',columns='year_month',values=0)\n",
    "ml['returns_2016'] = df[df['year'] == 2016].groupby('Name').apply(calculate_returns)\n",
    "ml['returns_2014'] = df[df['year'] == 2014].groupby('Name').apply(calculate_returns)\n",
    "ml['returns_2015'] = df[df['year'] == 2015].groupby('Name').apply(calculate_returns)\n",
    "ml['target'] = ml['returns_2016'] >= 0.15\n",
    "ml['target'].value_counts()"
   ],
   "metadata": {
    "collapsed": false,
    "pycharm": {
     "name": "#%%\n"
    }
   }
  },
  {
   "cell_type": "code",
   "execution_count": 34,
   "outputs": [],
   "source": [
    "ml = ml.dropna()\n",
    "from sklearn.ensemble import RandomForestClassifier\n",
    "from sklearn.model_selection import train_test_split\n",
    "from sklearn.metrics import confusion_matrix\n",
    "clf = RandomForestClassifier(random_state = 42)\n",
    "ml = ml.sample(frac=1,random_state = 41)\n",
    "\n",
    "cols_1 = ['2014_1', '2014_10', '2014_11', '2014_12', '2014_2', '2014_3', '2014_4',\n",
    "       '2014_5', '2014_7', '2014_8', '2014_9', '2015_1',\n",
    "       '2015_11', '2015_12', '2015_2', '2015_3', '2015_4', '2015_5', '2015_6',\n",
    "       '2015_7', '2015_8', '2015_9','returns_2014','returns_2015']\n",
    "year_2015_months = ['2015_1','2015_11', '2015_12', '2015_2', '2015_3', '2015_4', '2015_5', '2015_6','2015_7', '2015_8', '2015_9']\n",
    "ml['max_month_2015'] = ml.loc[:, year_2015_months].apply(lambda x: x.max(),axis=1)\n",
    "ml['min_month_2015'] = ml.loc[:, year_2015_months].apply(lambda x: x.min(),axis=1)\n",
    "ml['mean_month_2015'] = ml.loc[:, year_2015_months].apply(lambda x: x.mean(),axis=1)\n",
    "ml['std_month_2015'] = ml.loc[:, year_2015_months].apply(lambda x: x.std(),axis=1)\n",
    "\n",
    "year_2014_months = ['2014_1','2014_11', '2014_12', '2014_2', '2014_3', '2014_4', '2014_5', '2014_6','2014_7', '2014_8', '2014_9']\n",
    "ml['max_month_2014'] = ml.loc[:, year_2015_months].apply(lambda x: x.max(),axis=1)\n",
    "ml['min_month_2014'] = ml.loc[:, year_2015_months].apply(lambda x: x.min(),axis=1)\n",
    "ml['mean_month_2014'] = ml.loc[:, year_2015_months].apply(lambda x: x.mean(),axis=1)\n",
    "ml['std_month_2014'] = ml.loc[:, year_2015_months].apply(lambda x: x.std(),axis=1)\n",
    "ml['vol_at_2014_1'] = df[df['year_month'] =='2014_1'].groupby('Name')['Volume'].mean()\n",
    "ml['vol_at_2014_12'] = df[df['year_month'] =='2014_12'].groupby('Name')['Volume'].mean()\n",
    "ml['vol_at_2015_1'] = df[df['year_month'] =='2015_1'].groupby('Name')['Volume'].mean()\n",
    "ml['vol_at_2015_12'] = df[df['year_month'] =='2015_12'].groupby('Name')['Volume'].mean()"
   ],
   "metadata": {
    "collapsed": false,
    "pycharm": {
     "name": "#%%\n"
    }
   }
  },
  {
   "cell_type": "code",
   "execution_count": 35,
   "outputs": [],
   "source": [
    "ml['norm_vol_at_2014_12'] = ml['vol_at_2014_12'] / ml['vol_at_2014_1']\n",
    "ml['norm_vol_at_2015_1'] = ml['vol_at_2015_1'] / ml['vol_at_2014_1']\n",
    "ml['norm_vol_at_2015_12'] = ml['vol_at_2015_12'] / ml['vol_at_2014_1']\n",
    "cols_2 =['2015_1', '2015_12','2014_5','2014_3' , 'returns_2014','2015_7', '2014_5', '2015_4',\n",
    "       'returns_2015',  'max_month_2015','2014_10', '2015_5', '2014_3', '2014_11',\n",
    "       'mean_month_2015',  'min_month_2014','norm_vol_at_2014_12',\n",
    "         'norm_vol_at_2015_1','norm_vol_at_2015_12']"
   ],
   "metadata": {
    "collapsed": false,
    "pycharm": {
     "name": "#%%\n"
    }
   }
  },
  {
   "cell_type": "code",
   "execution_count": 36,
   "outputs": [],
   "source": [
    "X = ml[cols_2]\n",
    "y = ml['target']"
   ],
   "metadata": {
    "collapsed": false,
    "pycharm": {
     "name": "#%%\n"
    }
   }
  },
  {
   "cell_type": "code",
   "execution_count": 37,
   "outputs": [],
   "source": [
    "X_train,X_test, y_train,y_test = train_test_split(X,y,test_size = 0.3, random_state = 42)\n",
    "clf.fit(X_train,y_train)\n",
    "y_pred = clf.predict(X_test)"
   ],
   "metadata": {
    "collapsed": false,
    "pycharm": {
     "name": "#%%\n"
    }
   }
  },
  {
   "cell_type": "code",
   "execution_count": 38,
   "outputs": [],
   "source": [
    "cm = confusion_matrix(y_test, y_pred)\n",
    "\n",
    "import matplotlib.pyplot as plt\n",
    "import numpy as np"
   ],
   "metadata": {
    "collapsed": false,
    "pycharm": {
     "name": "#%%\n"
    }
   }
  },
  {
   "cell_type": "code",
   "execution_count": 39,
   "outputs": [
    {
     "data": {
      "text/plain": "<Figure size 432x288 with 1 Axes>",
      "image/png": "[encoded data removed]"
     },
     "metadata": {
      "needs_background": "light"
     },
     "output_type": "display_data"
    }
   ],
   "source": [
    "plt.clf()\n",
    "plt.imshow(cm, interpolation='nearest', cmap=plt.cm.Wistia)\n",
    "classNames = ['Negative','Positive']\n",
    "plt.title('Stocks predict 2016')\n",
    "plt.ylabel('True label')\n",
    "plt.xlabel('Predicted label')\n",
    "tick_marks = np.arange(len(classNames))\n",
    "plt.xticks(tick_marks, classNames, rotation=45)\n",
    "plt.yticks(tick_marks, classNames)\n",
    "s = [['TN','FP'], ['FN', 'TP']]\n",
    "for i in range(2):\n",
    "    for j in range(2):\n",
    "        plt.text(j,i, str(s[i][j])+\" = \"+str(cm[i][j]))\n",
    "plt.show()"
   ],
   "metadata": {
    "collapsed": false,
    "pycharm": {
     "name": "#%%\n"
    }
   }
  },
  {
   "cell_type": "code",
   "execution_count": 40,
   "outputs": [
    {
     "name": "stdout",
     "output_type": "stream",
     "text": [
      "51\n",
      "91\n"
     ]
    }
   ],
   "source": [
    "print(y_pred.sum())\n",
    "print(len(y_pred) - y_pred.sum())"
   ],
   "metadata": {
    "collapsed": false,
    "pycharm": {
     "name": "#%%\n"
    }
   }
  },
  {
   "cell_type": "code",
   "execution_count": 41,
   "outputs": [
    {
     "data": {
      "text/plain": "False    75\nTrue     67\nName: target, dtype: int64"
     },
     "execution_count": 41,
     "metadata": {},
     "output_type": "execute_result"
    }
   ],
   "source": [
    "y_test.value_counts()"
   ],
   "metadata": {
    "collapsed": false,
    "pycharm": {
     "name": "#%%\n"
    }
   }
  },
  {
   "cell_type": "code",
   "execution_count": 42,
   "outputs": [
    {
     "name": "stdout",
     "output_type": "stream",
     "text": [
      "16.132725591194568\n",
      "26.015852045178388\n",
      "10.593830545555278\n"
     ]
    }
   ],
   "source": [
    "all_stocks = X_test.index\n",
    "print(100*ml.loc[all_stocks]['returns_2016'].mean())\n",
    "print(100*ml.loc[X_test[y_pred].index]['returns_2016'].mean())\n",
    "print(100*ml.loc[X_test[~y_pred].index]['returns_2016'].mean())"
   ],
   "metadata": {
    "collapsed": false,
    "pycharm": {
     "name": "#%%\n"
    }
   }
  },
  {
   "cell_type": "code",
   "execution_count": 43,
   "outputs": [
    {
     "data": {
      "text/plain": "array(['2014_5', '2015_12', '2014_5', 'mean_month_2015', '2015_4',\n       'returns_2015', '2015_7', '2014_3', '2014_11',\n       'norm_vol_at_2015_1'], dtype=object)"
     },
     "execution_count": 43,
     "metadata": {},
     "output_type": "execute_result"
    },
    {
     "data": {
      "text/plain": "<Figure size 432x288 with 1 Axes>",
      "image/png": "[encoded data removed]"
     },
     "metadata": {
      "needs_background": "light"
     },
     "output_type": "display_data"
    }
   ],
   "source": [
    "# print(clf.feature_importances_)\n",
    "# print(X_test.columns)\n",
    "\n",
    "# X_test.columns\n",
    "# clf.feature_importances_\n",
    "ft = pd.DataFrame((zip(X_test.columns,clf.feature_importances_)))\n",
    "ft.sort_values(1,ascending=False).plot(x=0,y=1,kind='bar')\n",
    "\n",
    "ft.sort_values(1,ascending=False).head(10)[0].values"
   ],
   "metadata": {
    "collapsed": false,
    "pycharm": {
     "name": "#%%\n"
    }
   }
  }
 ],
 "metadata": {
  "kernelspec": {
   "display_name": "Python 3",
   "language": "python",
   "name": "python3"
  },
  "language_info": {
   "codemirror_mode": {
    "name": "ipython",
    "version": 2
   },
   "file_extension": ".py",
   "mimetype": "text/x-python",
   "name": "python",
   "nbconvert_exporter": "python",
   "pygments_lexer": "ipython2",
   "version": "2.7.6"
  }
 },
 "nbformat": 4,
 "nbformat_minor": 0
}